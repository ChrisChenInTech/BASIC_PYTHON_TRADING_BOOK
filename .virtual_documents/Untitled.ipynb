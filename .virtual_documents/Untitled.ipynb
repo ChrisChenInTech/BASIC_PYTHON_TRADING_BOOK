import yfinance as yf


tw0050 = yf.Ticker("0050.tw")


df0050 = tw0050.history(period='max')


df0050


mask = df0050['Open'] > df0050['Close']


mask


len(mask == False)


len(mask)


type(mask)


mask[~mask].count()


mask[mask].count()


df0050.loc['2024-07-23']


df0050.loc['2024-07-10':'2024-07-23']


df0050.tail()


df0050.index


df0050.columns


df0050.iloc[-1]


temp = df0050.loc['2022-07-01':'2022-07-14']
temp


temp.iat[1,0]=float('Nan')


temp


temp.dropna()


temp


temp.fillna(method='bfill')


import matplotlib.
